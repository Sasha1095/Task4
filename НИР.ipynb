{
  "nbformat": 4,
  "nbformat_minor": 0,
  "metadata": {
    "colab": {
      "name": "НИР",
      "provenance": [],
      "collapsed_sections": [],
      "authorship_tag": "ABX9TyO8eblYN4P/Zb8DOcQj2u2V",
      "include_colab_link": true
    },
    "kernelspec": {
      "name": "python3",
      "display_name": "Python 3"
    },
    "language_info": {
      "name": "python"
    }
  },
  "cells": [
    {
      "cell_type": "markdown",
      "metadata": {
        "id": "view-in-github",
        "colab_type": "text"
      },
      "source": [
        "<a href=\"https://colab.research.google.com/github/Sasha1095/Task4/blob/master/%D0%9D%D0%98%D0%A0.ipynb\" target=\"_parent\"><img src=\"https://colab.research.google.com/assets/colab-badge.svg\" alt=\"Open In Colab\"/></a>"
      ]
    },
    {
      "cell_type": "code",
      "execution_count": 2,
      "metadata": {
        "id": "uEulIivKWNno"
      },
      "outputs": [],
      "source": [
        "import numpy as np\n",
        "import scipy.linalg\n",
        "import math"
      ]
    },
    {
      "cell_type": "code",
      "source": [
        "def HtoG(H):\n",
        "    \"\"\"Convert a Parity Check Matrix in systematic form to a Generator Matrix.\n",
        "    Args:\n",
        "        H: Parity Check Matrix in systematic form\n",
        "    Returns:\n",
        "        Generator Matrix G\n",
        "    \"\"\"\n",
        "    n = np.shape(H)[1]\n",
        "    k = n - np.shape(H)[0]\n",
        "    P = HtoP(H)\n",
        "    Ik = np.eye(k)\n",
        "    G = np.concatenate((P, Ik), axis=1)\n",
        "    return G.astype(int)\n",
        "def HtoP(H):\n",
        "    \"\"\"Extract the submatrix P from a Parity Check Matrix in systematic form.\n",
        "    Args:\n",
        "        H: Parity Check Matrix in systematic form\n",
        "    Returns:\n",
        "        Submatrix P of G.\n",
        "    \"\"\"\n",
        "    n = np.shape(H)[1]\n",
        "    k = n - np.shape(H)[0]\n",
        "    PK = H[:, n - k:n]\n",
        "    P = np.transpose(PK)\n",
        "    return P.astype(int)\n"
      ],
      "metadata": {
        "id": "rYVxcHVOXbJS"
      },
      "execution_count": null,
      "outputs": []
    },
    {
      "cell_type": "code",
      "source": [
        "H = np.array([[1, 1, 0, 1, 1, 0, 0, 1, 0, 0],\n",
        "              [0, 1, 1, 0, 1, 1, 1, 0 ,0 ,0],\n",
        "              [0, 0, 0, 1, 0, 0, 0, 1, 1, 1],\n",
        "              [1, 1, 0, 0, 0, 1, 1, 0, 1, 0],\n",
        "              [0, 0, 1, 0, 0, 1, 0, 1, 0, 1]])\n",
        "print(HtoG(H))"
      ],
      "metadata": {
        "colab": {
          "base_uri": "https://localhost:8080/"
        },
        "id": "ztRUCZftYwIE",
        "outputId": "5808f963-3ae7-491e-bd65-f3ff9453fc21"
      },
      "execution_count": null,
      "outputs": [
        {
          "output_type": "stream",
          "name": "stdout",
          "text": [
            "[[0 1 0 1 1 1 0 0 0 0]\n",
            " [0 1 0 1 0 0 1 0 0 0]\n",
            " [1 0 1 0 1 0 0 1 0 0]\n",
            " [0 0 1 1 0 0 0 0 1 0]\n",
            " [0 0 1 0 1 0 0 0 0 1]]\n"
          ]
        }
      ]
    },
    {
      "cell_type": "code",
      "source": [
        "Htr = H.transpose()\n",
        "print(Htr)"
      ],
      "metadata": {
        "colab": {
          "base_uri": "https://localhost:8080/"
        },
        "id": "1b9IQeQybfME",
        "outputId": "5a65ba4b-147c-443d-e163-f46f1791ce97"
      },
      "execution_count": null,
      "outputs": [
        {
          "output_type": "stream",
          "name": "stdout",
          "text": [
            "[[1 0 0 1 0]\n",
            " [1 1 0 1 0]\n",
            " [0 1 0 0 1]\n",
            " [1 0 1 0 0]\n",
            " [1 1 0 0 0]\n",
            " [0 1 0 1 1]\n",
            " [0 1 0 1 0]\n",
            " [1 0 1 0 1]\n",
            " [0 0 1 1 0]\n",
            " [0 0 1 0 1]]\n"
          ]
        }
      ]
    },
    {
      "cell_type": "code",
      "source": [
        "Hempty = np.zeros((3,3))\n",
        "Hempty[0][1] = 1\n",
        "print(Hempty)"
      ],
      "metadata": {
        "id": "-0EXiRGFcprl",
        "colab": {
          "base_uri": "https://localhost:8080/"
        },
        "outputId": "2ee65070-8956-4dca-e37a-41ebcde3f68f"
      },
      "execution_count": 5,
      "outputs": [
        {
          "output_type": "stream",
          "name": "stdout",
          "text": [
            "[[0. 1. 0.]\n",
            " [0. 0. 0.]\n",
            " [0. 0. 0.]]\n"
          ]
        }
      ]
    },
    {
      "cell_type": "code",
      "source": [
        "def FillMatrix(column, rows, H, stringOfData, hOfCirculant):\n",
        "  ''' column - номер строки матрицы, rows - номер ряда матрицы\n",
        "  stringOfData - данные первой строки, которые будут циклически передаваться\n",
        "  H - матрица\n",
        "  '''\n",
        "  length = len(stringOfData)\n",
        "  for j in range(hOfCirculant):\n",
        "    for i in range(length):\n",
        "      H[column + j][rows + (i+j)%length] = stringOfData[i]#stringOfData[(i + j)%length]\n",
        "  return H"
      ],
      "metadata": {
        "id": "hNgQAmuO_7_r"
      },
      "execution_count": 3,
      "outputs": []
    },
    {
      "cell_type": "code",
      "source": [
        "Hempty = np.zeros((3,3))\n",
        "stringOfData = np.array([0,0,1])\n",
        "FillMatrix(0, 0, Hempty, stringOfData, 3)\n",
        "print(Hempty)"
      ],
      "metadata": {
        "colab": {
          "base_uri": "https://localhost:8080/"
        },
        "id": "-xWschuZEvM-",
        "outputId": "358a2bab-6e15-4681-c99c-ac9a674dcefc"
      },
      "execution_count": 19,
      "outputs": [
        {
          "output_type": "stream",
          "name": "stdout",
          "text": [
            "[[0. 0. 1.]\n",
            " [1. 0. 0.]\n",
            " [0. 1. 0.]]\n"
          ]
        }
      ]
    },
    {
      "cell_type": "code",
      "source": [
        "Htest = np.zeros((3,3,3))\n",
        "print(Htest)\n",
        "print(Htest[0][0])"
      ],
      "metadata": {
        "colab": {
          "base_uri": "https://localhost:8080/"
        },
        "id": "7Jx8vJ66HMX8",
        "outputId": "4d54a9c9-be1c-46db-ad93-2a2ce225c239"
      },
      "execution_count": 22,
      "outputs": [
        {
          "output_type": "stream",
          "name": "stdout",
          "text": [
            "[[[0. 0. 0.]\n",
            "  [0. 0. 0.]\n",
            "  [0. 0. 0.]]\n",
            "\n",
            " [[0. 0. 0.]\n",
            "  [0. 0. 0.]\n",
            "  [0. 0. 0.]]\n",
            "\n",
            " [[0. 0. 0.]\n",
            "  [0. 0. 0.]\n",
            "  [0. 0. 0.]]]\n",
            "[0. 0. 0.]\n"
          ]
        }
      ]
    },
    {
      "cell_type": "code",
      "source": [
        "def FillFullMatrix(AllData, H, hOfCirculant, x, y):\n",
        "  '''\n",
        "  AllData - трёмерный массив, в котором хранятся все данные для заполнения H\n",
        "  x - количество двумерных массивов\n",
        "  y количество строк в каждом массиве\n",
        "  '''\n",
        "  length = len((AllData[0][0]))\n",
        "  h0 = 0\n",
        "  for i in range(x):\n",
        "    for j in range(y):\n",
        "      FillMatrix(i*hOfCirculant, j*length, H, AllData[i][j],hOfCirculant)\n",
        "  return H"
      ],
      "metadata": {
        "id": "7cGCwFsiGDnJ"
      },
      "execution_count": 17,
      "outputs": []
    },
    {
      "cell_type": "code",
      "source": [
        "H = np.zeros((9,9), dtype = int)\n",
        "AllData = np.zeros((3,3,3))\n",
        "AllData[0][0][0]= 1\n",
        "AllData[0][1][0]= 1\n",
        "AllData[0][2][0]= 1\n",
        "AllData[1][0][1]= 1\n",
        "AllData[1][1][1]= 1\n",
        "AllData[1][2][1]= 1\n",
        "AllData[2][0][2]= 1\n",
        "AllData[2][1][2]= 1\n",
        "AllData[2][2][2]= 1\n",
        "print((H[0][0]))\n",
        "FillFullMatrix(AllData, H, 3, 3, 3)\n",
        "print(H)"
      ],
      "metadata": {
        "colab": {
          "base_uri": "https://localhost:8080/"
        },
        "id": "FBB7emX9L9kB",
        "outputId": "3518d170-4484-471e-c1f2-b40f25b47e5e"
      },
      "execution_count": 18,
      "outputs": [
        {
          "output_type": "stream",
          "name": "stdout",
          "text": [
            "0\n",
            "[[1 0 0 1 0 0 1 0 0]\n",
            " [0 1 0 0 1 0 0 1 0]\n",
            " [0 0 1 0 0 1 0 0 1]\n",
            " [0 1 0 0 1 0 0 1 0]\n",
            " [0 0 1 0 0 1 0 0 1]\n",
            " [1 0 0 1 0 0 1 0 0]\n",
            " [0 0 1 0 0 1 0 0 1]\n",
            " [1 0 0 1 0 0 1 0 0]\n",
            " [0 1 0 0 1 0 0 1 0]]\n"
          ]
        }
      ]
    }
  ]
}